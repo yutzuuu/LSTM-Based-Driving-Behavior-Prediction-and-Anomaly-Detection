{
 "cells": [
  {
   "cell_type": "code",
   "execution_count": 4,
   "metadata": {},
   "outputs": [],
   "source": [
    "import pandas as pd\n",
    "import numpy as np\n",
    "import os"
   ]
  },
  {
   "cell_type": "code",
   "execution_count": 5,
   "metadata": {},
   "outputs": [
    {
     "name": "stdout",
     "output_type": "stream",
     "text": [
      "Input file successfully loaded.\n"
     ]
    }
   ],
   "source": [
    "# Define input and output file names\n",
    "csv_file = 'Info_900.csv'\n",
    "output_file = 'Output.csv'\n",
    "\n",
    "# Check if the input file exists\n",
    "if not os.path.exists(csv_file):\n",
    "    print(f'Input file {csv_file} does not exist, please correct the file path.')\n",
    "else:\n",
    "    print('Input file successfully loaded.')"
   ]
  },
  {
   "cell_type": "code",
   "execution_count": null,
   "metadata": {},
   "outputs": [
    {
     "name": "stdout",
     "output_type": "stream",
     "text": [
      "Info_900.csv 檔案內容如下：\n",
      "          time  latitude  longitude  EL(%)  RPM  SPD(km/h)  MAF(g/S)  TPS(%)        1/ϕ  APP(%)   KM   LFT(%)  IAT(℃) MAP(Pa)  batter(V)\n",
      "20210716110321 23.031101  120.23647   0.35  700          0       3.6    0.04      1.024     0.0 2115 -7.03125      56   #NUM!      12.40\n",
      "20210716110322 23.031101  120.23647   0.36  700          0       3.6    0.05      1.024     0.0 2115 -7.03125      56   #NUM!      12.40\n",
      "20210716110324 23.031103  120.23646   0.37  713          0       3.4    0.05      1.024     0.0 2115 -7.03125      56   #NUM!      12.64\n",
      "20210716110326 23.031103  120.23646   0.38  700          0       3.9    0.05      1.024     0.0 2115 -7.03125      56   #NUM!      12.56\n",
      "20210716110327 23.031103  120.23646   0.39  700          0       3.8    0.05 0.99224806     0.0 2115 -7.03125      56   #NUM!      12.48\n"
     ]
    }
   ],
   "source": [
    "df_data = pd.read_csv(csv_file)\n",
    "\n",
    "# Check if the acceleration column exists, if it does, remove it\n",
    "if 'acceleration(m/s2)' in df_data.columns:\n",
    "    df_data = df_data.drop(['acceleration(m/s2)'], axis=1)\n",
    "\n",
    "# Print the content of the CSV file\n",
    "print(df_data.head().to_string(index=False))\n",
    "\n",
    "#print all data\n",
    "#print(df_data.to_string(index=False))   \n",
    "\n"
   ]
  },
  {
   "cell_type": "code",
   "execution_count": 7,
   "metadata": {},
   "outputs": [],
   "source": [
    "# Handle different time formats based on the length of the time string\n",
    "len_time = len(str(df_data['time'][0])) # Handle different time formats based on the length of the time string\n",
    "if len_time == 18:\n",
    "    df_data['time'] = pd.to_datetime(df_data['time'], format='%Y%m%d00%H%M%S00')\n",
    "elif len_time == 15:\n",
    "    df_data['time'] = pd.to_datetime(df_data['time'], format='%Y%m%d0%H%M%S')\n",
    "else:\n",
    "    df_data['time'] = pd.to_datetime(df_data['time'], format='%Y%m%d%H%M%S')"
   ]
  },
  {
   "cell_type": "code",
   "execution_count": 8,
   "metadata": {},
   "outputs": [],
   "source": [
    "# Calculate acceleration (m/s^2)\n",
    "df_data['acceleration(m/s2)'] = (\n",
    "    df_data['SPD(km/h)'].diff() * (1000 / 3600) / df_data['time'].diff().dt.total_seconds()\n",
    ")"
   ]
  },
  {
   "cell_type": "code",
   "execution_count": 9,
   "metadata": {},
   "outputs": [
    {
     "name": "stdout",
     "output_type": "stream",
     "text": [
      "               time  latitude  longitude  EL(%)  RPM  SPD(km/h)  MAF(g/S)  TPS(%)        1/ϕ  APP(%)   KM   LFT(%)  IAT(℃) MAP(Pa)  batter(V)  acceleration(m/s2)\n",
      "2021-07-16 11:03:21 23.031101  120.23647   0.35  700          0       3.6    0.04      1.024     0.0 2115 -7.03125      56   #NUM!      12.40                 NaN\n",
      "2021-07-16 11:03:22 23.031101  120.23647   0.36  700          0       3.6    0.05      1.024     0.0 2115 -7.03125      56   #NUM!      12.40                 0.0\n",
      "2021-07-16 11:03:24 23.031103  120.23646   0.37  713          0       3.4    0.05      1.024     0.0 2115 -7.03125      56   #NUM!      12.64                 0.0\n",
      "2021-07-16 11:03:26 23.031103  120.23646   0.38  700          0       3.9    0.05      1.024     0.0 2115 -7.03125      56   #NUM!      12.56                 0.0\n",
      "2021-07-16 11:03:27 23.031103  120.23646   0.39  700          0       3.8    0.05 0.99224806     0.0 2115 -7.03125      56   #NUM!      12.48                 0.0\n"
     ]
    }
   ],
   "source": [
    "# Print the final processed data\n",
    "print(df_data.head().to_string(index=False))\n",
    "\n",
    "#print all data\n",
    "#print(df_data.to_string(index=False)) "
   ]
  },
  {
   "cell_type": "code",
   "execution_count": 10,
   "metadata": {},
   "outputs": [],
   "source": [
    "# Save the processed data to a new file\n",
    "df_data.to_csv(output_file, index=False)"
   ]
  }
 ],
 "metadata": {
  "kernelspec": {
   "display_name": "simslab",
   "language": "python",
   "name": "python3"
  },
  "language_info": {
   "codemirror_mode": {
    "name": "ipython",
    "version": 3
   },
   "file_extension": ".py",
   "mimetype": "text/x-python",
   "name": "python",
   "nbconvert_exporter": "python",
   "pygments_lexer": "ipython3",
   "version": "3.9.0"
  },
  "orig_nbformat": 4
 },
 "nbformat": 4,
 "nbformat_minor": 2
}
